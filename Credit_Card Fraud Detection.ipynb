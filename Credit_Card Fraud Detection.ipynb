{
 "cells": [
  {
   "cell_type": "markdown",
   "metadata": {
    "id": "HZyzuQsOZYmy"
   },
   "source": [
    "## CREDIT CARD FRAUD DETECTION:\n",
    "\n",
    "---\n",
    "It is important that credit card companies are able to recognize fraudulent credit card transactions so that customers are not charged for items that they did not purchase.\n"
   ]
  },
  {
   "cell_type": "markdown",
   "metadata": {
    "id": "6AO1DUuTZ1KS"
   },
   "source": [
    "### LIBRARIES AND MODULES\n",
    "\n",
    "---\n",
    "\n"
   ]
  },
  {
   "cell_type": "code",
   "execution_count": 1,
   "metadata": {
    "id": "meICtZ06ZTp5"
   },
   "outputs": [],
   "source": [
    "# Libraries\n",
    "import numpy as np\n",
    "import pandas as  pd\n",
    "import os\n",
    "import matplotlib.pyplot as plt\n",
    "import seaborn as sns\n",
    "\n",
    "# Modules\n",
    "from sklearn.datasets import make_classification\n",
    "from sklearn.neighbors import KNeighborsClassifier\n",
    "from sklearn.decomposition import PCA\n",
    "from sklearn.preprocessing import StandardScaler\n",
    "from sklearn.model_selection import train_test_split\n",
    "from sklearn.preprocessing import StandardScaler\n",
    "from sklearn.linear_model import LogisticRegression\n",
    "from sklearn.neighbors import KNeighborsClassifier\n",
    "from sklearn.model_selection  import cross_val_score\n",
    "from sklearn.metrics import accuracy_score, mean_squared_error\n",
    "from sklearn.metrics import accuracy_score, classification_report, confusion_matrix,roc_auc_score, roc_curve,precision_score,recall_score,f1_score\n",
    "from sklearn.ensemble import RandomForestClassifier\n",
    "from sklearn.metrics import accuracy_score, confusion_matrix, precision_score, recall_score, ConfusionMatrixDisplay"
   ]
  },
  {
   "cell_type": "markdown",
   "metadata": {
    "id": "DZIsaUrOac-3"
   },
   "source": [
    "### DATA\n",
    "\n",
    "---\n",
    "The dataset contains transactions made by credit cards in September 2013 by European cardholders. This dataset presents transactions that occurred in two days, where we have 492 frauds out of 284,807 transactions. The dataset is highly unbalanced, the positive class (frauds) account for 0.172% of all transactions. It contains only numerical input variables which are the result of a PCA transformation. Unfortunately, due to confidentiality issues, we cannot provide the original features and more background information about the data. Features V1, V2, … V28 are the principal components obtained with PCA, the only features which have not been transformed with PCA are 'Time' and 'Amount'. Feature 'Time' contains the seconds elapsed between each transaction and the first transaction in the dataset. The feature 'Amount' is the transaction Amount, this feature can be used for example-dependant cost-sensitive learning. Feature 'Class' is the response variable and it takes value 1 in case of fraud and 0 otherwise.\n"
   ]
  },
  {
   "cell_type": "code",
   "execution_count": 3,
   "metadata": {
    "id": "ZTty46qwacFO"
   },
   "outputs": [
    {
     "data": {
      "text/html": [
       "<div>\n",
       "<style scoped>\n",
       "    .dataframe tbody tr th:only-of-type {\n",
       "        vertical-align: middle;\n",
       "    }\n",
       "\n",
       "    .dataframe tbody tr th {\n",
       "        vertical-align: top;\n",
       "    }\n",
       "\n",
       "    .dataframe thead th {\n",
       "        text-align: right;\n",
       "    }\n",
       "</style>\n",
       "<table border=\"1\" class=\"dataframe\">\n",
       "  <thead>\n",
       "    <tr style=\"text-align: right;\">\n",
       "      <th></th>\n",
       "      <th>Time</th>\n",
       "      <th>V1</th>\n",
       "      <th>V2</th>\n",
       "      <th>V3</th>\n",
       "      <th>V4</th>\n",
       "      <th>V5</th>\n",
       "      <th>V6</th>\n",
       "      <th>V7</th>\n",
       "      <th>V8</th>\n",
       "      <th>V9</th>\n",
       "      <th>...</th>\n",
       "      <th>V21</th>\n",
       "      <th>V22</th>\n",
       "      <th>V23</th>\n",
       "      <th>V24</th>\n",
       "      <th>V25</th>\n",
       "      <th>V26</th>\n",
       "      <th>V27</th>\n",
       "      <th>V28</th>\n",
       "      <th>Amount</th>\n",
       "      <th>Class</th>\n",
       "    </tr>\n",
       "  </thead>\n",
       "  <tbody>\n",
       "    <tr>\n",
       "      <th>0</th>\n",
       "      <td>0.0</td>\n",
       "      <td>-1.359807</td>\n",
       "      <td>-0.072781</td>\n",
       "      <td>2.536347</td>\n",
       "      <td>1.378155</td>\n",
       "      <td>-0.338321</td>\n",
       "      <td>0.462388</td>\n",
       "      <td>0.239599</td>\n",
       "      <td>0.098698</td>\n",
       "      <td>0.363787</td>\n",
       "      <td>...</td>\n",
       "      <td>-0.018307</td>\n",
       "      <td>0.277838</td>\n",
       "      <td>-0.110474</td>\n",
       "      <td>0.066928</td>\n",
       "      <td>0.128539</td>\n",
       "      <td>-0.189115</td>\n",
       "      <td>0.133558</td>\n",
       "      <td>-0.021053</td>\n",
       "      <td>149.62</td>\n",
       "      <td>0</td>\n",
       "    </tr>\n",
       "    <tr>\n",
       "      <th>1</th>\n",
       "      <td>0.0</td>\n",
       "      <td>1.191857</td>\n",
       "      <td>0.266151</td>\n",
       "      <td>0.166480</td>\n",
       "      <td>0.448154</td>\n",
       "      <td>0.060018</td>\n",
       "      <td>-0.082361</td>\n",
       "      <td>-0.078803</td>\n",
       "      <td>0.085102</td>\n",
       "      <td>-0.255425</td>\n",
       "      <td>...</td>\n",
       "      <td>-0.225775</td>\n",
       "      <td>-0.638672</td>\n",
       "      <td>0.101288</td>\n",
       "      <td>-0.339846</td>\n",
       "      <td>0.167170</td>\n",
       "      <td>0.125895</td>\n",
       "      <td>-0.008983</td>\n",
       "      <td>0.014724</td>\n",
       "      <td>2.69</td>\n",
       "      <td>0</td>\n",
       "    </tr>\n",
       "    <tr>\n",
       "      <th>2</th>\n",
       "      <td>1.0</td>\n",
       "      <td>-1.358354</td>\n",
       "      <td>-1.340163</td>\n",
       "      <td>1.773209</td>\n",
       "      <td>0.379780</td>\n",
       "      <td>-0.503198</td>\n",
       "      <td>1.800499</td>\n",
       "      <td>0.791461</td>\n",
       "      <td>0.247676</td>\n",
       "      <td>-1.514654</td>\n",
       "      <td>...</td>\n",
       "      <td>0.247998</td>\n",
       "      <td>0.771679</td>\n",
       "      <td>0.909412</td>\n",
       "      <td>-0.689281</td>\n",
       "      <td>-0.327642</td>\n",
       "      <td>-0.139097</td>\n",
       "      <td>-0.055353</td>\n",
       "      <td>-0.059752</td>\n",
       "      <td>378.66</td>\n",
       "      <td>0</td>\n",
       "    </tr>\n",
       "    <tr>\n",
       "      <th>3</th>\n",
       "      <td>1.0</td>\n",
       "      <td>-0.966272</td>\n",
       "      <td>-0.185226</td>\n",
       "      <td>1.792993</td>\n",
       "      <td>-0.863291</td>\n",
       "      <td>-0.010309</td>\n",
       "      <td>1.247203</td>\n",
       "      <td>0.237609</td>\n",
       "      <td>0.377436</td>\n",
       "      <td>-1.387024</td>\n",
       "      <td>...</td>\n",
       "      <td>-0.108300</td>\n",
       "      <td>0.005274</td>\n",
       "      <td>-0.190321</td>\n",
       "      <td>-1.175575</td>\n",
       "      <td>0.647376</td>\n",
       "      <td>-0.221929</td>\n",
       "      <td>0.062723</td>\n",
       "      <td>0.061458</td>\n",
       "      <td>123.50</td>\n",
       "      <td>0</td>\n",
       "    </tr>\n",
       "    <tr>\n",
       "      <th>4</th>\n",
       "      <td>2.0</td>\n",
       "      <td>-1.158233</td>\n",
       "      <td>0.877737</td>\n",
       "      <td>1.548718</td>\n",
       "      <td>0.403034</td>\n",
       "      <td>-0.407193</td>\n",
       "      <td>0.095921</td>\n",
       "      <td>0.592941</td>\n",
       "      <td>-0.270533</td>\n",
       "      <td>0.817739</td>\n",
       "      <td>...</td>\n",
       "      <td>-0.009431</td>\n",
       "      <td>0.798278</td>\n",
       "      <td>-0.137458</td>\n",
       "      <td>0.141267</td>\n",
       "      <td>-0.206010</td>\n",
       "      <td>0.502292</td>\n",
       "      <td>0.219422</td>\n",
       "      <td>0.215153</td>\n",
       "      <td>69.99</td>\n",
       "      <td>0</td>\n",
       "    </tr>\n",
       "  </tbody>\n",
       "</table>\n",
       "<p>5 rows × 31 columns</p>\n",
       "</div>"
      ],
      "text/plain": [
       "   Time        V1        V2        V3        V4        V5        V6        V7  \\\n",
       "0   0.0 -1.359807 -0.072781  2.536347  1.378155 -0.338321  0.462388  0.239599   \n",
       "1   0.0  1.191857  0.266151  0.166480  0.448154  0.060018 -0.082361 -0.078803   \n",
       "2   1.0 -1.358354 -1.340163  1.773209  0.379780 -0.503198  1.800499  0.791461   \n",
       "3   1.0 -0.966272 -0.185226  1.792993 -0.863291 -0.010309  1.247203  0.237609   \n",
       "4   2.0 -1.158233  0.877737  1.548718  0.403034 -0.407193  0.095921  0.592941   \n",
       "\n",
       "         V8        V9  ...       V21       V22       V23       V24       V25  \\\n",
       "0  0.098698  0.363787  ... -0.018307  0.277838 -0.110474  0.066928  0.128539   \n",
       "1  0.085102 -0.255425  ... -0.225775 -0.638672  0.101288 -0.339846  0.167170   \n",
       "2  0.247676 -1.514654  ...  0.247998  0.771679  0.909412 -0.689281 -0.327642   \n",
       "3  0.377436 -1.387024  ... -0.108300  0.005274 -0.190321 -1.175575  0.647376   \n",
       "4 -0.270533  0.817739  ... -0.009431  0.798278 -0.137458  0.141267 -0.206010   \n",
       "\n",
       "        V26       V27       V28  Amount  Class  \n",
       "0 -0.189115  0.133558 -0.021053  149.62      0  \n",
       "1  0.125895 -0.008983  0.014724    2.69      0  \n",
       "2 -0.139097 -0.055353 -0.059752  378.66      0  \n",
       "3 -0.221929  0.062723  0.061458  123.50      0  \n",
       "4  0.502292  0.219422  0.215153   69.99      0  \n",
       "\n",
       "[5 rows x 31 columns]"
      ]
     },
     "execution_count": 3,
     "metadata": {},
     "output_type": "execute_result"
    }
   ],
   "source": [
    "data=pd.read_csv('D:/DOWNLOADS/creditcard.csv')\n",
    "data.dropna()\n",
    "data.head(5)"
   ]
  },
  {
   "cell_type": "markdown",
   "metadata": {
    "id": "Sj_knGZKc01H"
   },
   "source": [
    "### COUNT OF FRAUD AND SAFE TRANSACTIONS\n",
    "\n",
    "---\n",
    "\n"
   ]
  },
  {
   "cell_type": "code",
   "execution_count": 4,
   "metadata": {
    "colab": {
     "base_uri": "https://localhost:8080/"
    },
    "id": "eD_3yjIRc5gR",
    "outputId": "f7ba59f8-f316-4f01-b825-76158d6578a2"
   },
   "outputs": [
    {
     "name": "stdout",
     "output_type": "stream",
     "text": [
      "The number of fraud transactions are : 492\n",
      "The number of safe transactions are : 284315\n"
     ]
    }
   ],
   "source": [
    "f = data[data['Class'] == 1] # fraud\n",
    "s = data[data['Class'] == 0] # safe\n",
    "print('The number of fraud transactions are : {}'.format(f.shape[0]))\n",
    "print('The number of safe transactions are : {}'.format(s.shape[0]))"
   ]
  },
  {
   "cell_type": "markdown",
   "metadata": {
    "id": "iPog9Zwsm_ui"
   },
   "source": [
    "### DONUT CHART SHOWING DISTRIBUTION OF FRAUD AND SAFE TRANSACTIONS\n",
    "\n",
    "---\n",
    "\n"
   ]
  },
  {
   "cell_type": "code",
   "execution_count": 5,
   "metadata": {
    "id": "iiiMI7rom-7N"
   },
   "outputs": [
    {
     "data": {
      "image/png": "[encoded data removed]",
      "text/plain": [
       "<Figure size 500x300 with 1 Axes>"
      ]
     },
     "metadata": {},
     "output_type": "display_data"
    }
   ],
   "source": [
    "# Count the number of fraud and safe transactions\n",
    "m = data['Class'].value_counts()\n",
    "\n",
    "# Create a donut chart\n",
    "labels = [ 'Safe','Fraud']\n",
    "sizes = m.values\n",
    "colors = ['indianred', 'black']\n",
    "explode = (0, 0)  # To make the first slice (fraud) explode out\n",
    "\n",
    "fig1, ax1 = plt.subplots(figsize=(5,3))\n",
    "ax1.pie(sizes, colors=colors, labels=labels, autopct='%1.1f%%', startangle=90, pctdistance=0.85, explode=explode)\n",
    "\n",
    "# Draw a white circle in the center to create the donut chart effect\n",
    "centre_circle = plt.Circle((0, 0), 0.70, fc='white')\n",
    "fig1.gca().add_artist(centre_circle)\n",
    "\n",
    "# Equal aspect ratio ensures that the pie is drawn as a circle.\n",
    "ax1.axis('equal')\n",
    "plt.legend(loc='best',shadow=True)\n",
    "plt.title('Distribution of Fraud and Safe transactions')\n",
    "plt.show()"
   ]
  },
  {
   "cell_type": "markdown",
   "metadata": {
    "id": "SEcCJ-d8nPg_"
   },
   "source": [
    "### TRAIN TEST SPLIT\n",
    "\n",
    "---\n",
    "\n"
   ]
  },
  {
   "cell_type": "code",
   "execution_count": 6,
   "metadata": {
    "id": "GKbObWL8nUP2"
   },
   "outputs": [],
   "source": [
    "X = data.drop('Class', axis=1)\n",
    "y = data['Class']\n",
    "X_train,X_test,y_train,y_test=train_test_split(X,y,test_size=0.2,random_state=32)"
   ]
  },
  {
   "cell_type": "markdown",
   "metadata": {
    "id": "0MzhPHxxAjBa"
   },
   "source": [
    "### STANDARIZATION OF THE VARIABLES\n",
    "\n",
    "---\n",
    "\n"
   ]
  },
  {
   "cell_type": "code",
   "execution_count": 7,
   "metadata": {
    "id": "Aooeg14eFHyg"
   },
   "outputs": [],
   "source": [
    "# Scale the features using StandardScaler\n",
    "scaler = StandardScaler()\n",
    "X_train = scaler.fit_transform(X_train)\n",
    "X_test = scaler.transform(X_test)"
   ]
  },
  {
   "cell_type": "markdown",
   "metadata": {
    "id": "toQVzvPiN2To"
   },
   "source": [
    "###  TERMINOLOGIES\n",
    "\n",
    "---\n",
    "\n",
    "\n",
    "*   **ACCURACY SCORE:** The base metric used for model evaluation is often Accuracy, describing the number of correct predictions over all predictions.\n",
    "*    **PRECISION SCORE:** Precision is a measure of how many of the positive predictions made are correct (true positives).\n",
    "\n",
    "\n",
    "*   **RECALL SCORE:** Recall is a measure of how many of the positive cases the classifier correctly predicted, over all the positive cases in the data. This is also called 'Sensitivity'.\n",
    "*   **F1 SCORE:** F1-Score is a measure combining both precision and recall.\n",
    "\n",
    "\n",
    "\n"
   ]
  },
  {
   "cell_type": "markdown",
   "metadata": {
    "id": "pymKZTo6O-cc"
   },
   "source": [
    "\n",
    "\n",
    "### 1.   LOGISTIC REGRESSION\n",
    "\n",
    "---\n",
    "\n",
    "\n",
    "\n"
   ]
  },
  {
   "cell_type": "code",
   "execution_count": 9,
   "metadata": {
    "id": "eUbg5ldWOnYo"
   },
   "outputs": [
    {
     "data": {
      "image/png": "[encoded data removed]",
      "text/plain": [
       "<Figure size 300x200 with 2 Axes>"
      ]
     },
     "metadata": {},
     "output_type": "display_data"
    },
    {
     "name": "stdout",
     "output_type": "stream",
     "text": [
      "Confusion Matrix (Testing Set):\n"
     ]
    },
    {
     "data": {
      "image/png": "[encoded data removed]",
      "text/plain": [
       "<Figure size 300x200 with 2 Axes>"
      ]
     },
     "metadata": {},
     "output_type": "display_data"
    }
   ],
   "source": [
    "# Fitting the Logistic Regression model\n",
    "model = LogisticRegression()\n",
    "model.fit(X_train, y_train)\n",
    "\n",
    "# Make predictions on the training set\n",
    "pred_tr = model.predict_proba(X_train)[:, 1]  # Probability of positive class (class01 = 1)\n",
    "\n",
    "# Calculate ROC-AUC score for training set\n",
    "ROC_logistic= roc_auc_score(y_train, pred_tr)\n",
    "\n",
    "# Find the threshold corresponding to the highest specificity * sensitivity (co = sensitivity * specificity)\n",
    "thresholds = model.decision_function(X_train)\n",
    "fpr, tpr, threshold = roc_curve(y_train, pred_tr)\n",
    "co = tpr * (1 - fpr)\n",
    "cutoff = threshold[co.argmax()]\n",
    "\n",
    "# Make predictions on the training set using the chosen threshold\n",
    "pred_val = (pred_tr > cutoff).astype(int)\n",
    "\n",
    "# Confusion matrix for the training set\n",
    "CM=confusion_matrix(y_train, pred_val)\n",
    "class_labels = ['Safe', 'Fraud']\n",
    "sns.heatmap(CM, annot=True, fmt='d', cmap=\"crest\", xticklabels=class_labels, yticklabels=class_labels)\n",
    "sns.set(rc={'figure.figsize':(3,2)})\n",
    "plt.xlabel('Predicted Values')\n",
    "plt.ylabel('True Values')\n",
    "plt.title('Training Set Confusion Matrix')\n",
    "plt.xticks(np.arange(len(class_labels)) + 0.5, class_labels)\n",
    "plt.yticks(np.arange(len(class_labels)) + 0.5, class_labels)\n",
    "plt.show()\n",
    "\n",
    "# Accuracy of  training model\n",
    "train_accuracy_logistic = accuracy_score(y_train, pred_val)\n",
    "train_precision_logistic = precision_score(y_train, pred_val)\n",
    "train_recall_logistic = recall_score(y_train, pred_val)\n",
    "train_f1_score_logistic = f1_score(y_train, pred_val)\n",
    "\n",
    "# Make predictions on the testing set\n",
    "pred_ts = model.predict_proba(X_test)[:, 1]\n",
    "\n",
    "# Find the threshold corresponding to the highest sensitivity * specificity (co = sensitivity * specificity)\n",
    "fpr_ts, tpr_ts, threshold_ts = roc_curve(y_test, pred_ts)\n",
    "co_ts = tpr_ts * (1 - fpr_ts)\n",
    "cutoff_ts = threshold_ts[co_ts.argmax()]\n",
    "\n",
    "# Make predictions on the testing set using the chosen threshold\n",
    "pred_val_ts = (pred_ts > cutoff_ts).astype(int)\n",
    "\n",
    "# Confusion matrix for the testing set\n",
    "print(\"Confusion Matrix (Testing Set):\")\n",
    "CM=confusion_matrix(y_test, pred_val_ts)\n",
    "class_labels = ['Safe', 'Fraud']\n",
    "sns.heatmap(CM, annot=True, fmt='d', cmap=\"Reds\", xticklabels=class_labels, yticklabels=class_labels)\n",
    "sns.set(rc={'figure.figsize':(3,2)})\n",
    "plt.xlabel('Predicted Values')\n",
    "plt.ylabel('True Values')\n",
    "plt.title('Test Set Confusion Matrix')\n",
    "plt.xticks(np.arange(len(class_labels)) + 0.5, class_labels)\n",
    "plt.yticks(np.arange(len(class_labels)) + 0.5, class_labels)\n",
    "plt.show()\n",
    "\n",
    "# Accuracy of model\n",
    "test_accuracy_logistic = accuracy_score(y_test, pred_val_ts)\n",
    "test_precision_logistic = precision_score(y_test, pred_val_ts)\n",
    "test_recall_logistic = recall_score(y_test, pred_val_ts)\n",
    "test_f1_score_logistic = f1_score(y_test, pred_val_ts)\n",
    "\n",
    "d={'Accuracy Score':[train_accuracy_logistic,test_accuracy_logistic],'Precision Score':[train_precision_logistic,test_precision_logistic],\n",
    "  'Recall Score':[train_recall_logistic,test_recall_logistic],'f1 Score':[train_f1_score_logistic,test_f1_score_logistic]}\n",
    "df=pd.DataFrame(d)\n",
    "df.index=['Train','Test']"
   ]
  },
  {
   "cell_type": "markdown",
   "metadata": {
    "id": "xpm8jWAwQSma"
   },
   "source": [
    "### 2. RANDOM FOREST CLASSIFIER\n",
    "\n",
    "---\n",
    "\n"
   ]
  },
  {
   "cell_type": "code",
   "execution_count": null,
   "metadata": {
    "id": "mTDWv27nSbf_"
   },
   "outputs": [],
   "source": [
    "\n",
    "rf_model = RandomForestClassifier()\n",
    "rf_model.fit(X_train, y_train)\n",
    "\n",
    "# Make predictions on the training set\n",
    "pred_tr_rf = rf_model.predict_proba(X_train)[:, 1]  # Probability of positive class (class01 = 1)\n",
    "\n",
    "# Calculate ROC-AUC score for training set\n",
    "ROC_random_forest = roc_auc_score(y_train, pred_tr_rf)\n",
    "\n",
    "# Find the threshold corresponding to the highest sensitivity * specificity (co = sensitivity * specificity)\n",
    "thresholds_rf = rf_model.predict_proba(X_train)[:, 1]\n",
    "fpr_rf, tpr_rf, threshold_rf = roc_curve(y_train, pred_tr_rf)\n",
    "co_rf = tpr_rf * (1 - fpr_rf)\n",
    "cutoff_rf = threshold_rf[co_rf.argmax()]\n",
    "\n",
    "# Make predictions on the training set using the chosen threshold\n",
    "pred_val_rf = (pred_tr_rf > cutoff_rf).astype(int)\n",
    "\n",
    "# Confusion matrix for the training set\n",
    "CM_rf = confusion_matrix(y_train, pred_val_rf)\n",
    "class_labels_rf = ['Safe', 'Fraud']\n",
    "sns.heatmap(CM_rf, annot=True, fmt='d', cmap=\"crest\", xticklabels=class_labels_rf, yticklabels=class_labels_rf)\n",
    "sns.set(rc={'figure.figsize':(3,2)})\n",
    "plt.xlabel('Predicted Values')\n",
    "plt.ylabel('True Values')\n",
    "plt.title('Random Forest Training Set Confusion Matrix')\n",
    "plt.xticks(np.arange(len(class_labels_rf)) + 0.5, class_labels_rf)\n",
    "plt.yticks(np.arange(len(class_labels_rf)) + 0.5, class_labels_rf)\n",
    "plt.show()\n",
    "\n",
    "# Accuracy of the Random Forest training model\n",
    "train_accuracy_rf = accuracy_score(y_train, pred_val_rf)\n",
    "train_precision_rf = precision_score(y_train, pred_val_rf)\n",
    "train_recall_rf = recall_score(y_train, pred_val_rf)\n",
    "train_f1_score_rf = f1_score(y_train, pred_val_rf)\n",
    "\n",
    "# Make predictions on the testing set\n",
    "pred_ts_rf = rf_model.predict_proba(X_test)[:, 1]\n",
    "\n",
    "# Find the threshold corresponding to the highest sensitivity * specificity (co = sensitivity * specificity)\n",
    "fpr_ts_rf, tpr_ts_rf, threshold_ts_rf = roc_curve(y_test, pred_ts_rf)\n",
    "co_ts_rf = tpr_ts_rf * (1 - fpr_ts_rf)\n",
    "cutoff_ts_rf = threshold_ts_rf[co_ts_rf.argmax()]\n",
    "\n",
    "# Make predictions on the testing set using the chosen threshold\n",
    "pred_val_ts_rf = (pred_ts_rf > cutoff_ts_rf).astype(int)\n",
    "\n",
    "# Confusion matrix for the testing set\n",
    "print(\"Random Forest Confusion Matrix (Testing Set):\")\n",
    "CM_rf_ts = confusion_matrix(y_test, pred_val_ts_rf)\n",
    "class_labels_rf_ts = ['Safe', 'Fraud']\n",
    "sns.heatmap(CM_rf_ts, annot=True, fmt='d', cmap=\"Reds\", xticklabels=class_labels_rf_ts, yticklabels=class_labels_rf_ts)\n",
    "sns.set(rc={'figure.figsize':(3,2)})\n",
    "plt.xlabel('Predicted Values')\n",
    "plt.ylabel('True Values')\n",
    "plt.title('Random Forest Test Set Confusion Matrix')\n",
    "plt.xticks(np.arange(len(class_labels_rf_ts)) + 0.5, class_labels_rf_ts)\n",
    "plt.yticks(np.arange(len(class_labels_rf_ts)) + 0.5, class_labels_rf_ts)\n",
    "plt.show()\n",
    "\n",
    "# Accuracy of the Random Forest model\n",
    "test_accuracy_rf = accuracy_score(y_test, pred_val_ts_rf)\n",
    "test_precision_rf = precision_score(y_test, pred_val_ts_rf)\n",
    "test_recall_rf = recall_score(y_test, pred_val_ts_rf)\n",
    "test_f1_score_rf = f1_score(y_test, pred_val_ts_rf)\n",
    "\n",
    "# Create a DataFrame to compare performance metrics for both models\n",
    "d_rf = {'Accuracy Score': [train_accuracy_rf, test_accuracy_rf],\n",
    "        'Precision Score': [train_precision_rf, test_precision_rf],\n",
    "        'Recall Score': [train_recall_rf, test_recall_rf],\n",
    "        'f1 Score': [train_f1_score_rf, test_f1_score_rf]}\n",
    "df_rf = pd.DataFrame(d_rf)\n",
    "df_rf.index = ['Train', 'Test']"
   ]
  },
  {
   "cell_type": "markdown",
   "metadata": {
    "id": "XLj53kCQeoTq"
   },
   "source": [
    "### COMPARISON GOODNESS OF FIT OF THE MODELS\n",
    "\n",
    "---\n",
    "\n"
   ]
  },
  {
   "cell_type": "code",
   "execution_count": null,
   "metadata": {
    "id": "lyxTxhCJX9Sg"
   },
   "outputs": [],
   "source": [
    "# Display the performance metrics for both models\n",
    "print(\"Logistic Regression Performance:\")\n",
    "print(df)\n",
    "print(\"\\nRandom Forest Performance:\")\n",
    "print(df_rf)"
   ]
  },
  {
   "cell_type": "markdown",
   "metadata": {
    "id": "oNh625eue4rC"
   },
   "source": [
    "### COMPARING ROC CURVE AND AUC\n",
    "\n",
    "---\n",
    "\n"
   ]
  },
  {
   "cell_type": "code",
   "execution_count": null,
   "metadata": {
    "id": "26sribnGe4We"
   },
   "outputs": [],
   "source": [
    "# Plot ROC curves\n",
    "plt.plot(fpr, tpr, label=\"Logistic Regression\")\n",
    "plt.plot(fpr_rf, tpr_rf, label=\"Random Forest\")\n",
    "plt.plot([0, 1], [0, 1], 'k--')  # Diagonal line for reference (random classifier)\n",
    "plt.xlabel('False Positive Rate')\n",
    "plt.ylabel('True Positive Rate')\n",
    "plt.title('ROC Curves')\n",
    "plt.legend(loc=\"best\")\n",
    "plt.show()\n",
    "\n",
    "d={'Logistic AUC Score':[ROC_logistic],'Random Forest AUC Score':[ROC_random_forest]}\n",
    "pd.DataFrame(d)"
   ]
  }
 ],
 "metadata": {
  "colab": {
   "provenance": []
  },
  "kernelspec": {
   "display_name": "Python 3 (ipykernel)",
   "language": "python",
   "name": "python3"
  },
  "language_info": {
   "codemirror_mode": {
    "name": "ipython",
    "version": 3
   },
   "file_extension": ".py",
   "mimetype": "text/x-python",
   "name": "python",
   "nbconvert_exporter": "python",
   "pygments_lexer": "ipython3",
   "version": "3.10.9"
  }
 },
 "nbformat": 4,
 "nbformat_minor": 1
}
