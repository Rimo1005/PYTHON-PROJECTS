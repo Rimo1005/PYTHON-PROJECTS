{
 "cells": [
  {
   "cell_type": "markdown",
   "metadata": {
    "id": "HZyzuQsOZYmy"
   },
   "source": [
    "## CREDIT CARD FRAUD DETECTION:\n",
    "\n",
    "---\n",
    "It is important that credit card companies are able to recognize fraudulent credit card transactions so that customers are not charged for items that they did not purchase.\n"
   ]
  },
  {
   "cell_type": "markdown",
   "metadata": {},
   "source": [
    "### INTRODUCTION:\n",
    "---\n",
    "The most prominent form of payment is a credit card. The main problems within the credit card trade are ongoing a fraud. The credit card company faces a huge loss if the cardholder does not detect the loss. An awfully very little quantity of data is needed by the assaulter for conducting any fallacious dealing in online transactions. During analysis work, numerous methods and outcome are reviewed, in terms of definite parameters."
   ]
  },
  {
   "cell_type": "markdown",
   "metadata": {
    "id": "6AO1DUuTZ1KS"
   },
   "source": [
    "### LIBRARIES AND MODULES\n",
    "\n",
    "---\n",
    "\n"
   ]
  },
  {
   "cell_type": "code",
   "execution_count": 23,
   "metadata": {
    "id": "meICtZ06ZTp5"
   },
   "outputs": [],
   "source": [
    "# Libraries\n",
    "import numpy as np\n",
    "import pandas as  pd\n",
    "import os\n",
    "import matplotlib.pyplot as plt\n",
    "import seaborn as sns\n",
    "import statsmodels.api as sm\n",
    "\n",
    "# Modules\n",
    "from sklearn.datasets import make_classification\n",
    "from sklearn.neighbors import KNeighborsClassifier\n",
    "from sklearn.decomposition import PCA\n",
    "from sklearn.preprocessing import StandardScaler\n",
    "from sklearn.model_selection import train_test_split\n",
    "from sklearn.preprocessing import StandardScaler\n",
    "from sklearn.linear_model import LogisticRegression\n",
    "from sklearn.neighbors import KNeighborsClassifier\n",
    "from sklearn.model_selection  import cross_val_score\n",
    "from sklearn.metrics import accuracy_score, mean_squared_error\n",
    "from sklearn.metrics import accuracy_score, classification_report, confusion_matrix,roc_auc_score, roc_curve,precision_score,recall_score,f1_score\n",
    "from sklearn.ensemble import RandomForestClassifier\n",
    "from sklearn.metrics import accuracy_score, confusion_matrix, precision_score, recall_score, ConfusionMatrixDisplay"
   ]
  },
  {
   "cell_type": "markdown",
   "metadata": {
    "id": "DZIsaUrOac-3"
   },
   "source": [
    "### DATA\n",
    "\n",
    "---\n",
    "The dataset contains transactions made by credit cards in September 2013 by European cardholders. This dataset presents transactions that occurred in two days, where we have 492 frauds out of 284,807 transactions. The dataset is highly unbalanced, the positive class (frauds) account for 0.172% of all transactions. It contains only numerical input variables which are the result of a PCA transformation. Unfortunately, due to confidentiality issues, we cannot provide the original features and more background information about the data. Features V1, V2, … V28 are the principal components obtained with PCA, the only features which have not been transformed with PCA are 'Time' and 'Amount'. Feature 'Time' contains the seconds elapsed between each transaction and the first transaction in the dataset. The feature 'Amount' is the transaction Amount, this feature can be used for example-dependant cost-sensitive learning. Feature 'Class' is the response variable and it takes value 1 in case of fraud and 0 otherwise.\n"
   ]
  },
  {
   "cell_type": "code",
   "execution_count": 20,
   "metadata": {
    "id": "ZTty46qwacFO"
   },
   "outputs": [
    {
     "data": {
      "text/html": [
       "<div>\n",
       "<style scoped>\n",
       "    .dataframe tbody tr th:only-of-type {\n",
       "        vertical-align: middle;\n",
       "    }\n",
       "\n",
       "    .dataframe tbody tr th {\n",
       "        vertical-align: top;\n",
       "    }\n",
       "\n",
       "    .dataframe thead th {\n",
       "        text-align: right;\n",
       "    }\n",
       "</style>\n",
       "<table border=\"1\" class=\"dataframe\">\n",
       "  <thead>\n",
       "    <tr style=\"text-align: right;\">\n",
       "      <th></th>\n",
       "      <th>Time</th>\n",
       "      <th>V1</th>\n",
       "      <th>V2</th>\n",
       "      <th>V3</th>\n",
       "      <th>V4</th>\n",
       "      <th>V5</th>\n",
       "      <th>V6</th>\n",
       "      <th>V7</th>\n",
       "      <th>V8</th>\n",
       "      <th>V9</th>\n",
       "      <th>...</th>\n",
       "      <th>V21</th>\n",
       "      <th>V22</th>\n",
       "      <th>V23</th>\n",
       "      <th>V24</th>\n",
       "      <th>V25</th>\n",
       "      <th>V26</th>\n",
       "      <th>V27</th>\n",
       "      <th>V28</th>\n",
       "      <th>Amount</th>\n",
       "      <th>Class</th>\n",
       "    </tr>\n",
       "  </thead>\n",
       "  <tbody>\n",
       "    <tr>\n",
       "      <th>0</th>\n",
       "      <td>0.0</td>\n",
       "      <td>-1.359807</td>\n",
       "      <td>-0.072781</td>\n",
       "      <td>2.536347</td>\n",
       "      <td>1.378155</td>\n",
       "      <td>-0.338321</td>\n",
       "      <td>0.462388</td>\n",
       "      <td>0.239599</td>\n",
       "      <td>0.098698</td>\n",
       "      <td>0.363787</td>\n",
       "      <td>...</td>\n",
       "      <td>-0.018307</td>\n",
       "      <td>0.277838</td>\n",
       "      <td>-0.110474</td>\n",
       "      <td>0.066928</td>\n",
       "      <td>0.128539</td>\n",
       "      <td>-0.189115</td>\n",
       "      <td>0.133558</td>\n",
       "      <td>-0.021053</td>\n",
       "      <td>149.62</td>\n",
       "      <td>0</td>\n",
       "    </tr>\n",
       "    <tr>\n",
       "      <th>1</th>\n",
       "      <td>0.0</td>\n",
       "      <td>1.191857</td>\n",
       "      <td>0.266151</td>\n",
       "      <td>0.166480</td>\n",
       "      <td>0.448154</td>\n",
       "      <td>0.060018</td>\n",
       "      <td>-0.082361</td>\n",
       "      <td>-0.078803</td>\n",
       "      <td>0.085102</td>\n",
       "      <td>-0.255425</td>\n",
       "      <td>...</td>\n",
       "      <td>-0.225775</td>\n",
       "      <td>-0.638672</td>\n",
       "      <td>0.101288</td>\n",
       "      <td>-0.339846</td>\n",
       "      <td>0.167170</td>\n",
       "      <td>0.125895</td>\n",
       "      <td>-0.008983</td>\n",
       "      <td>0.014724</td>\n",
       "      <td>2.69</td>\n",
       "      <td>0</td>\n",
       "    </tr>\n",
       "    <tr>\n",
       "      <th>2</th>\n",
       "      <td>1.0</td>\n",
       "      <td>-1.358354</td>\n",
       "      <td>-1.340163</td>\n",
       "      <td>1.773209</td>\n",
       "      <td>0.379780</td>\n",
       "      <td>-0.503198</td>\n",
       "      <td>1.800499</td>\n",
       "      <td>0.791461</td>\n",
       "      <td>0.247676</td>\n",
       "      <td>-1.514654</td>\n",
       "      <td>...</td>\n",
       "      <td>0.247998</td>\n",
       "      <td>0.771679</td>\n",
       "      <td>0.909412</td>\n",
       "      <td>-0.689281</td>\n",
       "      <td>-0.327642</td>\n",
       "      <td>-0.139097</td>\n",
       "      <td>-0.055353</td>\n",
       "      <td>-0.059752</td>\n",
       "      <td>378.66</td>\n",
       "      <td>0</td>\n",
       "    </tr>\n",
       "    <tr>\n",
       "      <th>3</th>\n",
       "      <td>1.0</td>\n",
       "      <td>-0.966272</td>\n",
       "      <td>-0.185226</td>\n",
       "      <td>1.792993</td>\n",
       "      <td>-0.863291</td>\n",
       "      <td>-0.010309</td>\n",
       "      <td>1.247203</td>\n",
       "      <td>0.237609</td>\n",
       "      <td>0.377436</td>\n",
       "      <td>-1.387024</td>\n",
       "      <td>...</td>\n",
       "      <td>-0.108300</td>\n",
       "      <td>0.005274</td>\n",
       "      <td>-0.190321</td>\n",
       "      <td>-1.175575</td>\n",
       "      <td>0.647376</td>\n",
       "      <td>-0.221929</td>\n",
       "      <td>0.062723</td>\n",
       "      <td>0.061458</td>\n",
       "      <td>123.50</td>\n",
       "      <td>0</td>\n",
       "    </tr>\n",
       "    <tr>\n",
       "      <th>4</th>\n",
       "      <td>2.0</td>\n",
       "      <td>-1.158233</td>\n",
       "      <td>0.877737</td>\n",
       "      <td>1.548718</td>\n",
       "      <td>0.403034</td>\n",
       "      <td>-0.407193</td>\n",
       "      <td>0.095921</td>\n",
       "      <td>0.592941</td>\n",
       "      <td>-0.270533</td>\n",
       "      <td>0.817739</td>\n",
       "      <td>...</td>\n",
       "      <td>-0.009431</td>\n",
       "      <td>0.798278</td>\n",
       "      <td>-0.137458</td>\n",
       "      <td>0.141267</td>\n",
       "      <td>-0.206010</td>\n",
       "      <td>0.502292</td>\n",
       "      <td>0.219422</td>\n",
       "      <td>0.215153</td>\n",
       "      <td>69.99</td>\n",
       "      <td>0</td>\n",
       "    </tr>\n",
       "  </tbody>\n",
       "</table>\n",
       "<p>5 rows × 31 columns</p>\n",
       "</div>"
      ],
      "text/plain": [
       "   Time        V1        V2        V3        V4        V5        V6        V7  \\\n",
       "0   0.0 -1.359807 -0.072781  2.536347  1.378155 -0.338321  0.462388  0.239599   \n",
       "1   0.0  1.191857  0.266151  0.166480  0.448154  0.060018 -0.082361 -0.078803   \n",
       "2   1.0 -1.358354 -1.340163  1.773209  0.379780 -0.503198  1.800499  0.791461   \n",
       "3   1.0 -0.966272 -0.185226  1.792993 -0.863291 -0.010309  1.247203  0.237609   \n",
       "4   2.0 -1.158233  0.877737  1.548718  0.403034 -0.407193  0.095921  0.592941   \n",
       "\n",
       "         V8        V9  ...       V21       V22       V23       V24       V25  \\\n",
       "0  0.098698  0.363787  ... -0.018307  0.277838 -0.110474  0.066928  0.128539   \n",
       "1  0.085102 -0.255425  ... -0.225775 -0.638672  0.101288 -0.339846  0.167170   \n",
       "2  0.247676 -1.514654  ...  0.247998  0.771679  0.909412 -0.689281 -0.327642   \n",
       "3  0.377436 -1.387024  ... -0.108300  0.005274 -0.190321 -1.175575  0.647376   \n",
       "4 -0.270533  0.817739  ... -0.009431  0.798278 -0.137458  0.141267 -0.206010   \n",
       "\n",
       "        V26       V27       V28  Amount  Class  \n",
       "0 -0.189115  0.133558 -0.021053  149.62      0  \n",
       "1  0.125895 -0.008983  0.014724    2.69      0  \n",
       "2 -0.139097 -0.055353 -0.059752  378.66      0  \n",
       "3 -0.221929  0.062723  0.061458  123.50      0  \n",
       "4  0.502292  0.219422  0.215153   69.99      0  \n",
       "\n",
       "[5 rows x 31 columns]"
      ]
     },
     "execution_count": 20,
     "metadata": {},
     "output_type": "execute_result"
    }
   ],
   "source": [
    "data=pd.read_csv('D:/DOWNLOADS/creditcard.csv')\n",
    "data.dropna(inplace=True)\n",
    "data.head(5)"
   ]
  },
  {
   "cell_type": "markdown",
   "metadata": {
    "id": "Sj_knGZKc01H"
   },
   "source": [
    "### COUNT OF FRAUD AND SAFE TRANSACTIONS\n",
    "\n",
    "---\n",
    "\n"
   ]
  },
  {
   "cell_type": "code",
   "execution_count": 3,
   "metadata": {
    "colab": {
     "base_uri": "https://localhost:8080/"
    },
    "id": "eD_3yjIRc5gR",
    "outputId": "f7ba59f8-f316-4f01-b825-76158d6578a2"
   },
   "outputs": [
    {
     "name": "stdout",
     "output_type": "stream",
     "text": [
      "The number of fraud transactions are : 492\n",
      "The number of safe transactions are : 284315\n"
     ]
    }
   ],
   "source": [
    "f = data[data['Class'] == 1] # fraud\n",
    "s = data[data['Class'] == 0] # safe\n",
    "print('The number of fraud transactions are : {}'.format(f.shape[0]))\n",
    "print('The number of safe transactions are : {}'.format(s.shape[0]))"
   ]
  },
  {
   "cell_type": "markdown",
   "metadata": {
    "id": "iPog9Zwsm_ui"
   },
   "source": [
    "### DONUT CHART SHOWING DISTRIBUTION OF FRAUD AND SAFE TRANSACTIONS\n",
    "\n",
    "---\n",
    "\n"
   ]
  },
  {
   "cell_type": "code",
   "execution_count": 44,
   "metadata": {
    "id": "iiiMI7rom-7N"
   },
   "outputs": [
    {
     "data": {
      "image/png": "[encoded data removed]",
      "text/plain": [
       "<Figure size 500x300 with 1 Axes>"
      ]
     },
     "metadata": {},
     "output_type": "display_data"
    }
   ],
   "source": [
    "# Count the number of fraud and safe transactions\n",
    "m = data['Class'].value_counts()\n",
    "\n",
    "# Create a donut chart\n",
    "labels = [ 'Safe','Fraud']\n",
    "sizes = m.values\n",
    "colors = ['indianred', 'black']\n",
    "explode = (0, 0)  # To make the first slice (fraud) explode out\n",
    "\n",
    "fig1, ax1 = plt.subplots(figsize=(5,3))\n",
    "ax1.pie(sizes, colors=colors, labels=labels, autopct='%1.1f%%', startangle=90, pctdistance=0.85, explode=explode)\n",
    "\n",
    "# Draw a white circle in the center to create the donut chart effect\n",
    "centre_circle = plt.Circle((0, 0), 0.70, fc='white')\n",
    "fig1.gca().add_artist(centre_circle)\n",
    "\n",
    "# Equal aspect ratio ensures that the pie is drawn as a circle.\n",
    "ax1.axis('equal')\n",
    "plt.legend(loc='best',shadow=True)\n",
    "plt.title('Distribution of Fraud and Safe transactions')\n",
    "plt.show()"
   ]
  },
  {
   "cell_type": "markdown",
   "metadata": {},
   "source": [
    "### INTERPRETATION: \n",
    "> * This graph shows that the number of fraud transactions is much lower than the legit ones. Almost 99.8% of total transactions are safe and fraud transactions account for only 0.2%  of the total transactions."
   ]
  },
  {
   "cell_type": "code",
   "execution_count": null,
   "metadata": {},
   "outputs": [],
   "source": [
    "sns.lineplot(x=\"Time\", y=\"Amount\", data=data)\n",
    "plt.show()"
   ]
  },
  {
   "cell_type": "markdown",
   "metadata": {
    "id": "SEcCJ-d8nPg_"
   },
   "source": [
    "### TRAIN TEST SPLIT\n",
    "\n",
    "---\n",
    "\n",
    "We now split our dataset into training and testing sets. We perform this by importing train_test_split from the sklearn.model_selection library. It is usually a good practice to keep 80% of the data in your train dataset and the rest 20% in your test dataset."
   ]
  },
  {
   "cell_type": "code",
   "execution_count": 31,
   "metadata": {
    "id": "GKbObWL8nUP2"
   },
   "outputs": [],
   "source": [
    "X = data.drop('Class', axis=1)\n",
    "y = data['Class']\n",
    "X_train,X_test,y_train,y_test=train_test_split(X,y,test_size=0.2,random_state=32)"
   ]
  },
  {
   "cell_type": "markdown",
   "metadata": {
    "id": "0MzhPHxxAjBa"
   },
   "source": [
    "### STANDARIZATION OF THE VARIABLES\n",
    "\n",
    "---\n",
    "\n",
    "Standardization is an essential preprocessing step in logistic regression to ensure better convergence, model interpretability, and fair comparison of feature contributions. "
   ]
  },
  {
   "cell_type": "code",
   "execution_count": 29,
   "metadata": {
    "id": "Aooeg14eFHyg"
   },
   "outputs": [
    {
     "name": "stdout",
     "output_type": "stream",
     "text": [
      "[[ 1.20764306 -0.16270216  0.99081019 ...  0.3734089   0.79246085\n",
      "  -0.26972767]\n",
      " [-1.9442226   0.59509705  0.13958839 ... -0.02937527  0.09352522\n",
      "  -0.29617486]\n",
      " [ 1.23522341  0.73062371 -0.83542352 ... -0.23106041 -0.06724883\n",
      "   0.8576378 ]\n",
      " ...\n",
      " [-0.81963906 -1.70549835 -0.85311055 ...  1.07398306  2.17450254\n",
      "   0.43888409]\n",
      " [-0.32315063  0.74024178 -0.2734081  ...  0.02695066  0.04696881\n",
      "  -0.28827607]\n",
      " [-1.59908925 -0.3567994   0.26021336 ... -0.15653064 -0.46684\n",
      "  -0.30065477]]\n"
     ]
    }
   ],
   "source": [
    "# Scale the features using StandardScaler\n",
    "scaler = StandardScaler()\n",
    "X_train = scaler.fit_transform(X_train)\n",
    "X_test = scaler.transform(X_test)"
   ]
  },
  {
   "cell_type": "markdown",
   "metadata": {
    "id": "toQVzvPiN2To"
   },
   "source": [
    "###  TERMINOLOGIES\n",
    "\n",
    "---\n",
    "\n",
    "\n",
    "*   **ACCURACY SCORE:** The base metric used for model evaluation is often Accuracy, describing the number of correct predictions over all predictions.\n",
    "*    **PRECISION SCORE:** Precision is a measure of how many of the positive predictions made are correct (true positives).\n",
    "\n",
    "\n",
    "*   **RECALL SCORE:** Recall is a measure of how many of the positive cases the classifier correctly predicted, over all the positive cases in the data. This is also called 'Sensitivity'.\n",
    "*   **F1 SCORE:** F1-Score is a measure combining both precision and recall.\n",
    "\n",
    "\n",
    "\n"
   ]
  },
  {
   "cell_type": "markdown",
   "metadata": {
    "id": "pymKZTo6O-cc"
   },
   "source": [
    "\n",
    "\n",
    "### 1.   LOGISTIC REGRESSION\n",
    "\n",
    "---\n",
    "\n",
    "\n",
    "\n"
   ]
  },
  {
   "cell_type": "code",
   "execution_count": 46,
   "metadata": {
    "id": "eUbg5ldWOnYo"
   },
   "outputs": [
    {
     "name": "stdout",
     "output_type": "stream",
     "text": [
      "Optimization terminated successfully.\n",
      "         Current function value: 0.009599\n",
      "         Iterations 12\n",
      "                          Results: Logit\n",
      "==================================================================\n",
      "Model:              Logit            Pseudo R-squared: 0.222      \n",
      "Dependent Variable: Class            AIC:              4434.0406  \n",
      "Date:               2023-08-03 10:51 BIC:              4744.1332  \n",
      "No. Observations:   227845           Log-Likelihood:   -2187.0    \n",
      "Df Model:           29               LL-Null:          -2810.3    \n",
      "Df Residuals:       227815           LLR p-value:      5.0728e-244\n",
      "Converged:          1.0000           Scale:            1.0000     \n",
      "No. Iterations:     12.0000                                       \n",
      "--------------------------------------------------------------------\n",
      "           Coef.    Std.Err.      z       P>|z|     [0.025    0.975]\n",
      "--------------------------------------------------------------------\n",
      "Time      -0.0001     0.0000   -48.6061   0.0000   -0.0001   -0.0001\n",
      "V1         0.6088     0.0393    15.4797   0.0000    0.5317    0.6859\n",
      "V2        -1.4087     0.0476   -29.5993   0.0000   -1.5020   -1.3154\n",
      "V3        -1.6104     0.0395   -40.7708   0.0000   -1.6878   -1.5330\n",
      "V4         0.3682     0.0344    10.6950   0.0000    0.3008    0.4357\n",
      "V5        -0.9608     0.0682   -14.0817   0.0000   -1.0945   -0.8271\n",
      "V6         0.4722     0.0505     9.3415   0.0000    0.3731    0.5712\n",
      "V7         1.4950     0.0739    20.2258   0.0000    1.3501    1.6399\n",
      "V8        -0.4974     0.0274   -18.1210   0.0000   -0.5512   -0.4436\n",
      "V9        -0.8112     0.0639   -12.6985   0.0000   -0.9364   -0.6860\n",
      "V10       -1.0479     0.0799   -13.1197   0.0000   -1.2045   -0.8914\n",
      "V11       -0.6008     0.0469   -12.8239   0.0000   -0.6926   -0.5090\n",
      "V12       -0.0188     0.0475    -0.3960   0.6921   -0.1119    0.0743\n",
      "V13       -0.4063     0.0464    -8.7615   0.0000   -0.4971   -0.3154\n",
      "V14       -0.4986     0.0445   -11.1962   0.0000   -0.5859   -0.4113\n",
      "V15       -0.9333     0.0530   -17.6056   0.0000   -1.0372   -0.8294\n",
      "V16       -0.4544     0.0582    -7.8064   0.0000   -0.5685   -0.3403\n",
      "V17       -0.5363     0.0461   -11.6306   0.0000   -0.6267   -0.4460\n",
      "V18        0.4694     0.0645     7.2837   0.0000    0.3431    0.5958\n",
      "V19       -0.3275     0.0665    -4.9221   0.0000   -0.4579   -0.1971\n",
      "V20        2.3664     0.1760    13.4446   0.0000    2.0214    2.7114\n",
      "V21        1.5289     0.0736    20.7805   0.0000    1.3847    1.6731\n",
      "V22        0.8611     0.0914     9.4195   0.0000    0.6819    1.0402\n",
      "V23        0.5047     0.1311     3.8508   0.0001    0.2478    0.7615\n",
      "V24       -0.0614     0.0764    -0.8033   0.4218   -0.2111    0.0884\n",
      "V25       -1.7228     0.1024   -16.8256   0.0000   -1.9235   -1.5221\n",
      "V26        0.2312     0.0983     2.3527   0.0186    0.0386    0.4238\n",
      "V27       -1.3551     0.1620    -8.3672   0.0000   -1.6726   -1.0377\n",
      "V28        0.6067     0.1182     5.1345   0.0000    0.3751    0.8383\n",
      "Amount    -0.0222     0.0010   -22.3257   0.0000   -0.0241   -0.0202\n",
      "==================================================================\n",
      "\n",
      "Confusion Matrix (Training Set):\n"
     ]
    },
    {
     "data": {
      "image/png": "[encoded data removed]",
      "text/plain": [
       "<Figure size 300x200 with 2 Axes>"
      ]
     },
     "metadata": {},
     "output_type": "display_data"
    },
    {
     "name": "stdout",
     "output_type": "stream",
     "text": [
      "Confusion Matrix (Testing Set):\n"
     ]
    },
    {
     "data": {
      "image/png": "[encoded data removed]",
      "text/plain": [
       "<Figure size 300x200 with 2 Axes>"
      ]
     },
     "metadata": {},
     "output_type": "display_data"
    }
   ],
   "source": [
    "# Fitting the Logistic Regression model\n",
    "model1 = sm.Logit(y_train,X_train)\n",
    "result = model1.fit()\n",
    "print(result.summary2())\n",
    "\n",
    "model = LogisticRegression(max_iter=1000)\n",
    "model.fit(X_train,y_train)\n",
    "# Make predictions on the training set\n",
    "pred_tr = model.predict_proba(X_train)[:, 1]  # Probability of positive class (class01 = 1)\n",
    "\n",
    "# Calculate ROC-AUC score for training set\n",
    "ROC_logistic= roc_auc_score(y_train, pred_tr)\n",
    "\n",
    "# Find the threshold corresponding to the highest specificity * sensitivity (co = sensitivity * specificity)\n",
    "thresholds = model.decision_function(X_train)\n",
    "fpr, tpr, threshold = roc_curve(y_train, pred_tr)\n",
    "co = tpr * (1 - fpr)\n",
    "cutoff = threshold[co.argmax()]\n",
    "\n",
    "# Make predictions on the training set using the chosen threshold\n",
    "pred_val = (pred_tr > cutoff).astype(int)\n",
    "\n",
    "# Confusion matrix for the training set\n",
    "print(\"Confusion Matrix (Training Set):\")\n",
    "CM=confusion_matrix(y_train, pred_val)\n",
    "class_labels = ['Safe', 'Fraud']\n",
    "sns.heatmap(CM, annot=True, fmt='d', cmap=\"crest\", xticklabels=class_labels, yticklabels=class_labels)\n",
    "sns.set(rc={'figure.figsize':(3,2)})\n",
    "plt.xlabel('Predicted Values')\n",
    "plt.ylabel('True Values')\n",
    "plt.title('Training Set Confusion Matrix')\n",
    "plt.xticks(np.arange(len(class_labels)) + 0.5, class_labels)\n",
    "plt.yticks(np.arange(len(class_labels)) + 0.5, class_labels)\n",
    "plt.show()\n",
    "\n",
    "# Accuracy of  training model\n",
    "train_accuracy_logistic = accuracy_score(y_train, pred_val)\n",
    "train_precision_logistic = precision_score(y_train, pred_val)\n",
    "train_recall_logistic = recall_score(y_train, pred_val)\n",
    "train_f1_score_logistic = f1_score(y_train, pred_val)\n",
    "\n",
    "# Make predictions on the testing set\n",
    "pred_ts = model.predict_proba(X_test)[:, 1]\n",
    "\n",
    "# Find the threshold corresponding to the highest sensitivity * specificity (co = sensitivity * specificity)\n",
    "fpr_ts, tpr_ts, threshold_ts = roc_curve(y_test, pred_ts)\n",
    "co_ts = tpr_ts * (1 - fpr_ts)\n",
    "cutoff_ts = threshold_ts[co_ts.argmax()]\n",
    "\n",
    "# Make predictions on the testing set using the chosen threshold\n",
    "pred_val_ts = (pred_ts > cutoff_ts).astype(int)\n",
    "\n",
    "# Confusion matrix for the testing set\n",
    "print(\"Confusion Matrix (Testing Set):\")\n",
    "CM=confusion_matrix(y_test, pred_val_ts)\n",
    "class_labels = ['Safe', 'Fraud']\n",
    "sns.heatmap(CM, annot=True, fmt='d', cmap=\"Reds\", xticklabels=class_labels, yticklabels=class_labels)\n",
    "sns.set(rc={'figure.figsize':(3,2)})\n",
    "plt.xlabel('Predicted Values')\n",
    "plt.ylabel('True Values')\n",
    "plt.title('Test Set Confusion Matrix')\n",
    "plt.xticks(np.arange(len(class_labels)) + 0.5, class_labels)\n",
    "plt.yticks(np.arange(len(class_labels)) + 0.5, class_labels)\n",
    "plt.show()\n",
    "\n",
    "# Accuracy of model\n",
    "test_accuracy_logistic = accuracy_score(y_test, pred_val_ts)\n",
    "test_precision_logistic = precision_score(y_test, pred_val_ts)\n",
    "test_recall_logistic = recall_score(y_test, pred_val_ts)\n",
    "test_f1_score_logistic = f1_score(y_test, pred_val_ts)\n",
    "\n",
    "d={'Accuracy Score':[train_accuracy_logistic,test_accuracy_logistic],'Precision Score':[train_precision_logistic,test_precision_logistic],\n",
    "  'Recall Score':[train_recall_logistic,test_recall_logistic],'f1 Score':[train_f1_score_logistic,test_f1_score_logistic]}\n",
    "df=pd.DataFrame(d)\n",
    "df.index=['Train','Test']"
   ]
  },
  {
   "cell_type": "markdown",
   "metadata": {
    "id": "xpm8jWAwQSma"
   },
   "source": [
    "### 2. RANDOM FOREST CLASSIFIER\n",
    "\n",
    "---\n",
    "\n"
   ]
  },
  {
   "cell_type": "code",
   "execution_count": 35,
   "metadata": {
    "id": "mTDWv27nSbf_"
   },
   "outputs": [
    {
     "name": "stdout",
     "output_type": "stream",
     "text": [
      "Confusion Matrix (Training Set):\n"
     ]
    },
    {
     "data": {
      "image/png": "[encoded data removed]",
      "text/plain": [
       "<Figure size 300x200 with 2 Axes>"
      ]
     },
     "metadata": {},
     "output_type": "display_data"
    },
    {
     "name": "stdout",
     "output_type": "stream",
     "text": [
      "Random Forest Confusion Matrix (Testing Set):\n"
     ]
    },
    {
     "data": {
      "image/png": "[encoded data removed]",
      "text/plain": [
       "<Figure size 300x200 with 2 Axes>"
      ]
     },
     "metadata": {},
     "output_type": "display_data"
    }
   ],
   "source": [
    "rf_model = RandomForestClassifier()\n",
    "result=rf_model.fit(X_train, y_train)\n",
    "\n",
    "# Make predictions on the training set\n",
    "pred_tr_rf = rf_model.predict_proba(X_train)[:, 1]  # Probability of positive class (class01 = 1)\n",
    "\n",
    "# Calculate ROC-AUC score for training set\n",
    "ROC_random_forest = roc_auc_score(y_train, pred_tr_rf)\n",
    "\n",
    "# Find the threshold corresponding to the highest sensitivity * specificity (co = sensitivity * specificity)\n",
    "thresholds_rf = rf_model.predict_proba(X_train)[:, 1]\n",
    "fpr_rf, tpr_rf, threshold_rf = roc_curve(y_train, pred_tr_rf)\n",
    "co_rf = tpr_rf * (1 - fpr_rf)\n",
    "cutoff_rf = threshold_rf[co_rf.argmax()]\n",
    "\n",
    "# Make predictions on the training set using the chosen threshold\n",
    "pred_val_rf = (pred_tr_rf > cutoff_rf).astype(int)\n",
    "\n",
    "# Confusion matrix for the training set\n",
    "print(\"Confusion Matrix (Training Set):\")\n",
    "CM_rf = confusion_matrix(y_train, pred_val_rf)\n",
    "class_labels_rf = ['Safe', 'Fraud']\n",
    "sns.heatmap(CM_rf, annot=True, fmt='d', cmap=\"crest\", xticklabels=class_labels_rf, yticklabels=class_labels_rf)\n",
    "sns.set(rc={'figure.figsize':(3,2)})\n",
    "plt.xlabel('Predicted Values')\n",
    "plt.ylabel('True Values')\n",
    "plt.title('Random Forest Training Set Confusion Matrix')\n",
    "plt.xticks(np.arange(len(class_labels_rf)) + 0.5, class_labels_rf)\n",
    "plt.yticks(np.arange(len(class_labels_rf)) + 0.5, class_labels_rf)\n",
    "plt.show()\n",
    "\n",
    "# Accuracy of the Random Forest training model\n",
    "train_accuracy_rf = accuracy_score(y_train, pred_val_rf)\n",
    "train_precision_rf = precision_score(y_train, pred_val_rf)\n",
    "train_recall_rf = recall_score(y_train, pred_val_rf)\n",
    "train_f1_score_rf = f1_score(y_train, pred_val_rf)\n",
    "\n",
    "# Make predictions on the testing set\n",
    "pred_ts_rf = rf_model.predict_proba(X_test)[:, 1]\n",
    "\n",
    "# Find the threshold corresponding to the highest sensitivity * specificity (co = sensitivity * specificity)\n",
    "fpr_ts_rf, tpr_ts_rf, threshold_ts_rf = roc_curve(y_test, pred_ts_rf)\n",
    "co_ts_rf = tpr_ts_rf * (1 - fpr_ts_rf)\n",
    "cutoff_ts_rf = threshold_ts_rf[co_ts_rf.argmax()]\n",
    "\n",
    "# Make predictions on the testing set using the chosen threshold\n",
    "pred_val_ts_rf = (pred_ts_rf > cutoff_ts_rf).astype(int)\n",
    "\n",
    "# Confusion matrix for the testing set\n",
    "print(\"Random Forest Confusion Matrix (Testing Set):\")\n",
    "CM_rf_ts = confusion_matrix(y_test, pred_val_ts_rf)\n",
    "class_labels_rf_ts = ['Safe', 'Fraud']\n",
    "sns.heatmap(CM_rf_ts, annot=True, fmt='d', cmap=\"Reds\", xticklabels=class_labels_rf_ts, yticklabels=class_labels_rf_ts)\n",
    "sns.set(rc={'figure.figsize':(3,2)})\n",
    "plt.xlabel('Predicted Values')\n",
    "plt.ylabel('True Values')\n",
    "plt.title('Random Forest Test Set Confusion Matrix')\n",
    "plt.xticks(np.arange(len(class_labels_rf_ts)) + 0.5, class_labels_rf_ts)\n",
    "plt.yticks(np.arange(len(class_labels_rf_ts)) + 0.5, class_labels_rf_ts)\n",
    "plt.show()\n",
    "\n",
    "# Accuracy of the Random Forest model\n",
    "test_accuracy_rf = accuracy_score(y_test, pred_val_ts_rf)\n",
    "test_precision_rf = precision_score(y_test, pred_val_ts_rf)\n",
    "test_recall_rf = recall_score(y_test, pred_val_ts_rf)\n",
    "test_f1_score_rf = f1_score(y_test, pred_val_ts_rf)\n",
    "\n",
    "# Create a DataFrame to compare performance metrics for both models\n",
    "d_rf = {'Accuracy Score': [train_accuracy_rf, test_accuracy_rf],\n",
    "        'Precision Score': [train_precision_rf, test_precision_rf],\n",
    "        'Recall Score': [train_recall_rf, test_recall_rf],\n",
    "        'f1 Score': [train_f1_score_rf, test_f1_score_rf]}\n",
    "df_rf = pd.DataFrame(d_rf)\n",
    "df_rf.index = ['Train', 'Test']"
   ]
  },
  {
   "cell_type": "markdown",
   "metadata": {
    "id": "XLj53kCQeoTq"
   },
   "source": [
    "### COMPARISON GOODNESS OF FIT OF THE MODELS\n",
    "\n",
    "---\n",
    "\n"
   ]
  },
  {
   "cell_type": "code",
   "execution_count": 45,
   "metadata": {
    "id": "lyxTxhCJX9Sg"
   },
   "outputs": [
    {
     "name": "stdout",
     "output_type": "stream",
     "text": [
      "Logistic Regression Performance:\n"
     ]
    },
    {
     "data": {
      "text/html": [
       "<div>\n",
       "<style scoped>\n",
       "    .dataframe tbody tr th:only-of-type {\n",
       "        vertical-align: middle;\n",
       "    }\n",
       "\n",
       "    .dataframe tbody tr th {\n",
       "        vertical-align: top;\n",
       "    }\n",
       "\n",
       "    .dataframe thead th {\n",
       "        text-align: right;\n",
       "    }\n",
       "</style>\n",
       "<table border=\"1\" class=\"dataframe\">\n",
       "  <thead>\n",
       "    <tr style=\"text-align: right;\">\n",
       "      <th></th>\n",
       "      <th>V1</th>\n",
       "      <th>V2</th>\n",
       "      <th>V3</th>\n",
       "      <th>V4</th>\n",
       "      <th>V5</th>\n",
       "      <th>V6</th>\n",
       "      <th>V7</th>\n",
       "      <th>V8</th>\n",
       "      <th>V9</th>\n",
       "      <th>V10</th>\n",
       "      <th>...</th>\n",
       "      <th>V19</th>\n",
       "      <th>V20</th>\n",
       "      <th>V21</th>\n",
       "      <th>V22</th>\n",
       "      <th>V23</th>\n",
       "      <th>V24</th>\n",
       "      <th>V25</th>\n",
       "      <th>V26</th>\n",
       "      <th>V27</th>\n",
       "      <th>V28</th>\n",
       "    </tr>\n",
       "  </thead>\n",
       "  <tbody>\n",
       "    <tr>\n",
       "      <th>0</th>\n",
       "      <td>-1.359807</td>\n",
       "      <td>-0.072781</td>\n",
       "      <td>2.536347</td>\n",
       "      <td>1.378155</td>\n",
       "      <td>-0.338321</td>\n",
       "      <td>0.462388</td>\n",
       "      <td>0.239599</td>\n",
       "      <td>0.098698</td>\n",
       "      <td>0.363787</td>\n",
       "      <td>0.090794</td>\n",
       "      <td>...</td>\n",
       "      <td>0.403993</td>\n",
       "      <td>0.251412</td>\n",
       "      <td>-0.018307</td>\n",
       "      <td>0.277838</td>\n",
       "      <td>-0.110474</td>\n",
       "      <td>0.066928</td>\n",
       "      <td>0.128539</td>\n",
       "      <td>-0.189115</td>\n",
       "      <td>0.133558</td>\n",
       "      <td>-0.021053</td>\n",
       "    </tr>\n",
       "    <tr>\n",
       "      <th>1</th>\n",
       "      <td>1.191857</td>\n",
       "      <td>0.266151</td>\n",
       "      <td>0.166480</td>\n",
       "      <td>0.448154</td>\n",
       "      <td>0.060018</td>\n",
       "      <td>-0.082361</td>\n",
       "      <td>-0.078803</td>\n",
       "      <td>0.085102</td>\n",
       "      <td>-0.255425</td>\n",
       "      <td>-0.166974</td>\n",
       "      <td>...</td>\n",
       "      <td>-0.145783</td>\n",
       "      <td>-0.069083</td>\n",
       "      <td>-0.225775</td>\n",
       "      <td>-0.638672</td>\n",
       "      <td>0.101288</td>\n",
       "      <td>-0.339846</td>\n",
       "      <td>0.167170</td>\n",
       "      <td>0.125895</td>\n",
       "      <td>-0.008983</td>\n",
       "      <td>0.014724</td>\n",
       "    </tr>\n",
       "    <tr>\n",
       "      <th>2</th>\n",
       "      <td>-1.358354</td>\n",
       "      <td>-1.340163</td>\n",
       "      <td>1.773209</td>\n",
       "      <td>0.379780</td>\n",
       "      <td>-0.503198</td>\n",
       "      <td>1.800499</td>\n",
       "      <td>0.791461</td>\n",
       "      <td>0.247676</td>\n",
       "      <td>-1.514654</td>\n",
       "      <td>0.207643</td>\n",
       "      <td>...</td>\n",
       "      <td>-2.261857</td>\n",
       "      <td>0.524980</td>\n",
       "      <td>0.247998</td>\n",
       "      <td>0.771679</td>\n",
       "      <td>0.909412</td>\n",
       "      <td>-0.689281</td>\n",
       "      <td>-0.327642</td>\n",
       "      <td>-0.139097</td>\n",
       "      <td>-0.055353</td>\n",
       "      <td>-0.059752</td>\n",
       "    </tr>\n",
       "    <tr>\n",
       "      <th>3</th>\n",
       "      <td>-0.966272</td>\n",
       "      <td>-0.185226</td>\n",
       "      <td>1.792993</td>\n",
       "      <td>-0.863291</td>\n",
       "      <td>-0.010309</td>\n",
       "      <td>1.247203</td>\n",
       "      <td>0.237609</td>\n",
       "      <td>0.377436</td>\n",
       "      <td>-1.387024</td>\n",
       "      <td>-0.054952</td>\n",
       "      <td>...</td>\n",
       "      <td>-1.232622</td>\n",
       "      <td>-0.208038</td>\n",
       "      <td>-0.108300</td>\n",
       "      <td>0.005274</td>\n",
       "      <td>-0.190321</td>\n",
       "      <td>-1.175575</td>\n",
       "      <td>0.647376</td>\n",
       "      <td>-0.221929</td>\n",
       "      <td>0.062723</td>\n",
       "      <td>0.061458</td>\n",
       "    </tr>\n",
       "    <tr>\n",
       "      <th>4</th>\n",
       "      <td>-1.158233</td>\n",
       "      <td>0.877737</td>\n",
       "      <td>1.548718</td>\n",
       "      <td>0.403034</td>\n",
       "      <td>-0.407193</td>\n",
       "      <td>0.095921</td>\n",
       "      <td>0.592941</td>\n",
       "      <td>-0.270533</td>\n",
       "      <td>0.817739</td>\n",
       "      <td>0.753074</td>\n",
       "      <td>...</td>\n",
       "      <td>0.803487</td>\n",
       "      <td>0.408542</td>\n",
       "      <td>-0.009431</td>\n",
       "      <td>0.798278</td>\n",
       "      <td>-0.137458</td>\n",
       "      <td>0.141267</td>\n",
       "      <td>-0.206010</td>\n",
       "      <td>0.502292</td>\n",
       "      <td>0.219422</td>\n",
       "      <td>0.215153</td>\n",
       "    </tr>\n",
       "    <tr>\n",
       "      <th>...</th>\n",
       "      <td>...</td>\n",
       "      <td>...</td>\n",
       "      <td>...</td>\n",
       "      <td>...</td>\n",
       "      <td>...</td>\n",
       "      <td>...</td>\n",
       "      <td>...</td>\n",
       "      <td>...</td>\n",
       "      <td>...</td>\n",
       "      <td>...</td>\n",
       "      <td>...</td>\n",
       "      <td>...</td>\n",
       "      <td>...</td>\n",
       "      <td>...</td>\n",
       "      <td>...</td>\n",
       "      <td>...</td>\n",
       "      <td>...</td>\n",
       "      <td>...</td>\n",
       "      <td>...</td>\n",
       "      <td>...</td>\n",
       "      <td>...</td>\n",
       "    </tr>\n",
       "    <tr>\n",
       "      <th>284802</th>\n",
       "      <td>-11.881118</td>\n",
       "      <td>10.071785</td>\n",
       "      <td>-9.834783</td>\n",
       "      <td>-2.066656</td>\n",
       "      <td>-5.364473</td>\n",
       "      <td>-2.606837</td>\n",
       "      <td>-4.918215</td>\n",
       "      <td>7.305334</td>\n",
       "      <td>1.914428</td>\n",
       "      <td>4.356170</td>\n",
       "      <td>...</td>\n",
       "      <td>-0.682920</td>\n",
       "      <td>1.475829</td>\n",
       "      <td>0.213454</td>\n",
       "      <td>0.111864</td>\n",
       "      <td>1.014480</td>\n",
       "      <td>-0.509348</td>\n",
       "      <td>1.436807</td>\n",
       "      <td>0.250034</td>\n",
       "      <td>0.943651</td>\n",
       "      <td>0.823731</td>\n",
       "    </tr>\n",
       "    <tr>\n",
       "      <th>284803</th>\n",
       "      <td>-0.732789</td>\n",
       "      <td>-0.055080</td>\n",
       "      <td>2.035030</td>\n",
       "      <td>-0.738589</td>\n",
       "      <td>0.868229</td>\n",
       "      <td>1.058415</td>\n",
       "      <td>0.024330</td>\n",
       "      <td>0.294869</td>\n",
       "      <td>0.584800</td>\n",
       "      <td>-0.975926</td>\n",
       "      <td>...</td>\n",
       "      <td>-1.545556</td>\n",
       "      <td>0.059616</td>\n",
       "      <td>0.214205</td>\n",
       "      <td>0.924384</td>\n",
       "      <td>0.012463</td>\n",
       "      <td>-1.016226</td>\n",
       "      <td>-0.606624</td>\n",
       "      <td>-0.395255</td>\n",
       "      <td>0.068472</td>\n",
       "      <td>-0.053527</td>\n",
       "    </tr>\n",
       "    <tr>\n",
       "      <th>284804</th>\n",
       "      <td>1.919565</td>\n",
       "      <td>-0.301254</td>\n",
       "      <td>-3.249640</td>\n",
       "      <td>-0.557828</td>\n",
       "      <td>2.630515</td>\n",
       "      <td>3.031260</td>\n",
       "      <td>-0.296827</td>\n",
       "      <td>0.708417</td>\n",
       "      <td>0.432454</td>\n",
       "      <td>-0.484782</td>\n",
       "      <td>...</td>\n",
       "      <td>-0.577252</td>\n",
       "      <td>0.001396</td>\n",
       "      <td>0.232045</td>\n",
       "      <td>0.578229</td>\n",
       "      <td>-0.037501</td>\n",
       "      <td>0.640134</td>\n",
       "      <td>0.265745</td>\n",
       "      <td>-0.087371</td>\n",
       "      <td>0.004455</td>\n",
       "      <td>-0.026561</td>\n",
       "    </tr>\n",
       "    <tr>\n",
       "      <th>284805</th>\n",
       "      <td>-0.240440</td>\n",
       "      <td>0.530483</td>\n",
       "      <td>0.702510</td>\n",
       "      <td>0.689799</td>\n",
       "      <td>-0.377961</td>\n",
       "      <td>0.623708</td>\n",
       "      <td>-0.686180</td>\n",
       "      <td>0.679145</td>\n",
       "      <td>0.392087</td>\n",
       "      <td>-0.399126</td>\n",
       "      <td>...</td>\n",
       "      <td>2.897849</td>\n",
       "      <td>0.127434</td>\n",
       "      <td>0.265245</td>\n",
       "      <td>0.800049</td>\n",
       "      <td>-0.163298</td>\n",
       "      <td>0.123205</td>\n",
       "      <td>-0.569159</td>\n",
       "      <td>0.546668</td>\n",
       "      <td>0.108821</td>\n",
       "      <td>0.104533</td>\n",
       "    </tr>\n",
       "    <tr>\n",
       "      <th>284806</th>\n",
       "      <td>-0.533413</td>\n",
       "      <td>-0.189733</td>\n",
       "      <td>0.703337</td>\n",
       "      <td>-0.506271</td>\n",
       "      <td>-0.012546</td>\n",
       "      <td>-0.649617</td>\n",
       "      <td>1.577006</td>\n",
       "      <td>-0.414650</td>\n",
       "      <td>0.486180</td>\n",
       "      <td>-0.915427</td>\n",
       "      <td>...</td>\n",
       "      <td>-0.256117</td>\n",
       "      <td>0.382948</td>\n",
       "      <td>0.261057</td>\n",
       "      <td>0.643078</td>\n",
       "      <td>0.376777</td>\n",
       "      <td>0.008797</td>\n",
       "      <td>-0.473649</td>\n",
       "      <td>-0.818267</td>\n",
       "      <td>-0.002415</td>\n",
       "      <td>0.013649</td>\n",
       "    </tr>\n",
       "  </tbody>\n",
       "</table>\n",
       "<p>284807 rows × 28 columns</p>\n",
       "</div>"
      ],
      "text/plain": [
       "               V1         V2        V3        V4        V5        V6  \\\n",
       "0       -1.359807  -0.072781  2.536347  1.378155 -0.338321  0.462388   \n",
       "1        1.191857   0.266151  0.166480  0.448154  0.060018 -0.082361   \n",
       "2       -1.358354  -1.340163  1.773209  0.379780 -0.503198  1.800499   \n",
       "3       -0.966272  -0.185226  1.792993 -0.863291 -0.010309  1.247203   \n",
       "4       -1.158233   0.877737  1.548718  0.403034 -0.407193  0.095921   \n",
       "...           ...        ...       ...       ...       ...       ...   \n",
       "284802 -11.881118  10.071785 -9.834783 -2.066656 -5.364473 -2.606837   \n",
       "284803  -0.732789  -0.055080  2.035030 -0.738589  0.868229  1.058415   \n",
       "284804   1.919565  -0.301254 -3.249640 -0.557828  2.630515  3.031260   \n",
       "284805  -0.240440   0.530483  0.702510  0.689799 -0.377961  0.623708   \n",
       "284806  -0.533413  -0.189733  0.703337 -0.506271 -0.012546 -0.649617   \n",
       "\n",
       "              V7        V8        V9       V10  ...       V19       V20  \\\n",
       "0       0.239599  0.098698  0.363787  0.090794  ...  0.403993  0.251412   \n",
       "1      -0.078803  0.085102 -0.255425 -0.166974  ... -0.145783 -0.069083   \n",
       "2       0.791461  0.247676 -1.514654  0.207643  ... -2.261857  0.524980   \n",
       "3       0.237609  0.377436 -1.387024 -0.054952  ... -1.232622 -0.208038   \n",
       "4       0.592941 -0.270533  0.817739  0.753074  ...  0.803487  0.408542   \n",
       "...          ...       ...       ...       ...  ...       ...       ...   \n",
       "284802 -4.918215  7.305334  1.914428  4.356170  ... -0.682920  1.475829   \n",
       "284803  0.024330  0.294869  0.584800 -0.975926  ... -1.545556  0.059616   \n",
       "284804 -0.296827  0.708417  0.432454 -0.484782  ... -0.577252  0.001396   \n",
       "284805 -0.686180  0.679145  0.392087 -0.399126  ...  2.897849  0.127434   \n",
       "284806  1.577006 -0.414650  0.486180 -0.915427  ... -0.256117  0.382948   \n",
       "\n",
       "             V21       V22       V23       V24       V25       V26       V27  \\\n",
       "0      -0.018307  0.277838 -0.110474  0.066928  0.128539 -0.189115  0.133558   \n",
       "1      -0.225775 -0.638672  0.101288 -0.339846  0.167170  0.125895 -0.008983   \n",
       "2       0.247998  0.771679  0.909412 -0.689281 -0.327642 -0.139097 -0.055353   \n",
       "3      -0.108300  0.005274 -0.190321 -1.175575  0.647376 -0.221929  0.062723   \n",
       "4      -0.009431  0.798278 -0.137458  0.141267 -0.206010  0.502292  0.219422   \n",
       "...          ...       ...       ...       ...       ...       ...       ...   \n",
       "284802  0.213454  0.111864  1.014480 -0.509348  1.436807  0.250034  0.943651   \n",
       "284803  0.214205  0.924384  0.012463 -1.016226 -0.606624 -0.395255  0.068472   \n",
       "284804  0.232045  0.578229 -0.037501  0.640134  0.265745 -0.087371  0.004455   \n",
       "284805  0.265245  0.800049 -0.163298  0.123205 -0.569159  0.546668  0.108821   \n",
       "284806  0.261057  0.643078  0.376777  0.008797 -0.473649 -0.818267 -0.002415   \n",
       "\n",
       "             V28  \n",
       "0      -0.021053  \n",
       "1       0.014724  \n",
       "2      -0.059752  \n",
       "3       0.061458  \n",
       "4       0.215153  \n",
       "...          ...  \n",
       "284802  0.823731  \n",
       "284803 -0.053527  \n",
       "284804 -0.026561  \n",
       "284805  0.104533  \n",
       "284806  0.013649  \n",
       "\n",
       "[284807 rows x 28 columns]"
      ]
     },
     "execution_count": 45,
     "metadata": {},
     "output_type": "execute_result"
    }
   ],
   "source": [
    "# Display the performance metrics for both models\n",
    "print(\"Logistic Regression Performance:\")\n",
    "df"
   ]
  },
  {
   "cell_type": "code",
   "execution_count": null,
   "metadata": {},
   "outputs": [],
   "source": [
    "print(\"\\nRandom Forest Performance:\")\n",
    "df_rf"
   ]
  },
  {
   "cell_type": "markdown",
   "metadata": {
    "id": "oNh625eue4rC"
   },
   "source": [
    "### COMPARING ROC CURVE AND AUC\n",
    "\n",
    "---\n",
    "\n"
   ]
  },
  {
   "cell_type": "code",
   "execution_count": 14,
   "metadata": {
    "id": "26sribnGe4We"
   },
   "outputs": [
    {
     "data": {
      "image/png": "[encoded data removed]",
      "text/plain": [
       "<Figure size 300x200 with 1 Axes>"
      ]
     },
     "metadata": {},
     "output_type": "display_data"
    },
    {
     "data": {
      "text/html": [
       "<div>\n",
       "<style scoped>\n",
       "    .dataframe tbody tr th:only-of-type {\n",
       "        vertical-align: middle;\n",
       "    }\n",
       "\n",
       "    .dataframe tbody tr th {\n",
       "        vertical-align: top;\n",
       "    }\n",
       "\n",
       "    .dataframe thead th {\n",
       "        text-align: right;\n",
       "    }\n",
       "</style>\n",
       "<table border=\"1\" class=\"dataframe\">\n",
       "  <thead>\n",
       "    <tr style=\"text-align: right;\">\n",
       "      <th></th>\n",
       "      <th>Logistic AUC Score</th>\n",
       "      <th>Random Forest AUC Score</th>\n",
       "    </tr>\n",
       "  </thead>\n",
       "  <tbody>\n",
       "    <tr>\n",
       "      <th>0</th>\n",
       "      <td>0.903729</td>\n",
       "      <td>1.0</td>\n",
       "    </tr>\n",
       "  </tbody>\n",
       "</table>\n",
       "</div>"
      ],
      "text/plain": [
       "   Logistic AUC Score  Random Forest AUC Score\n",
       "0            0.903729                      1.0"
      ]
     },
     "execution_count": 14,
     "metadata": {},
     "output_type": "execute_result"
    }
   ],
   "source": [
    "# Plot ROC curves\n",
    "plt.plot(fpr, tpr, label=\"Logistic Regression\")\n",
    "plt.plot(fpr_rf, tpr_rf, label=\"Random Forest\")\n",
    "plt.plot([0, 1], [0, 1], 'k--')  # Diagonal line for reference (random classifier)\n",
    "plt.xlabel('False Positive Rate')\n",
    "plt.ylabel('True Positive Rate')\n",
    "plt.title('ROC Curves')\n",
    "plt.legend(loc=\"best\")\n",
    "plt.show()\n",
    "\n",
    "d={'Logistic AUC Score':[ROC_logistic],'Random Forest AUC Score':[ROC_random_forest]}\n",
    "pd.DataFrame(d)"
   ]
  },
  {
   "cell_type": "markdown",
   "metadata": {},
   "source": [
    "### INTERPRETATION: \\ \n",
    "> 1. **ACCURACY SCORE** : Accuracy score for Random Forest is more than that of Logisic Regression for both training and test set ie. Random Forest predicts the fraudulent and genuine transactions more accurately.\n",
    "> 2. **PRECISION SCORE** : Precision  score for Random Forest is more than that of Logisic Regression for both training and test set ie. Random Forest predicts the fraudulent and genuine transactions more accurately.\n",
    "> 3. **RECALL SCORE** : RECALL  score for Random Forest is more than that of Logisic Regression for both training and test set ie. Random Forest predicts the fraudulent and genuine transactions more accurately.\n",
    "> 4. **f1 SCORE** : f1  score for Random Forest is more than that of Logisic Regression for both training and test set ie. Random Forest predicts the fraudulent and genuine transactions more accurately.\n",
    "> 5. **AUC** : AUC for Random Forest is more than that of Logisic Regression ie. Random Forest predicts the fraudulent and genuine transactions more accurately."
   ]
  }
 ],
 "metadata": {
  "colab": {
   "provenance": []
  },
  "kernelspec": {
   "display_name": "Python 3 (ipykernel)",
   "language": "python",
   "name": "python3"
  },
  "language_info": {
   "codemirror_mode": {
    "name": "ipython",
    "version": 3
   },
   "file_extension": ".py",
   "mimetype": "text/x-python",
   "name": "python",
   "nbconvert_exporter": "python",
   "pygments_lexer": "ipython3",
   "version": "3.10.9"
  }
 },
 "nbformat": 4,
 "nbformat_minor": 1
}
